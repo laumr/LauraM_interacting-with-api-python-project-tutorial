{
    "cells": [
        {
            "cell_type": "markdown",
            "metadata": {},
            "source": [
                "# Explore here"
            ]
        },
        {
            "cell_type": "code",
            "execution_count": 12,
            "metadata": {},
            "outputs": [
                {
                    "data": {
                        "text/plain": [
                            "True"
                        ]
                    },
                    "execution_count": 12,
                    "metadata": {},
                    "output_type": "execute_result"
                }
            ],
            "source": [
                "import os\n",
                "import pandas as pd\n",
                "import matplotlib.pyplot as plt\n",
                "from dotenv import load_dotenv\n",
                "\n",
                "# load the .env file variables\n",
                "load_dotenv()"
            ]
        },
        {
            "cell_type": "code",
            "execution_count": 18,
            "metadata": {},
            "outputs": [],
            "source": [
                "\n",
                "\n",
                "import spotipy\n",
                "from spotipy.oauth2 import SpotifyClientCredentials\n",
                "\n",
                "CLIENT_ID='59ec37197ef844d3b9e7977edc2c1fb2'\n",
                "CLIENT_SECRET='c46c06f6ff4942adbe3bed0dfb4ec41a'\n",
                "\n",
                "auth_manager = SpotifyClientCredentials(client_id='CLIENT_ID', client_secret='CLIENT_SECRET')\n",
                "spotify = spotipy.Spotify(auth_manager=auth_manager)\n",
                "\n",
                "\n"
            ]
        },
        {
            "cell_type": "code",
            "execution_count": 20,
            "metadata": {},
            "outputs": [
                {
                    "name": "stderr",
                    "output_type": "stream",
                    "text": [
                        "Exception ignored in: <function Spotify.__del__ at 0x7285877f5300>\n",
                        "Traceback (most recent call last):\n",
                        "  File \"/home/vscode/.local/lib/python3.11/site-packages/spotipy/client.py\", line 214, in __del__\n",
                        "    if isinstance(self._session, requests.Session):\n",
                        "                  ^^^^^^^^^^^^^\n",
                        "AttributeError: 'Spotify' object has no attribute '_session'\n"
                    ]
                },
                {
                    "ename": "TypeError",
                    "evalue": "Spotify.__init__() got an unexpected keyword argument 'client_id'",
                    "output_type": "error",
                    "traceback": [
                        "\u001b[31m---------------------------------------------------------------------------\u001b[39m",
                        "\u001b[31mTypeError\u001b[39m                                 Traceback (most recent call last)",
                        "\u001b[36mCell\u001b[39m\u001b[36m \u001b[39m\u001b[32mIn[20]\u001b[39m\u001b[32m, line 6\u001b[39m\n\u001b[32m      1\u001b[39m \u001b[38;5;66;03m#Obtén de tu artista favorito, el top 10 de sus canciones.\u001b[39;00m\n\u001b[32m      2\u001b[39m \u001b[38;5;66;03m# quédate con el elemento tracks, que contendrá las canciones con más reproducciones del artista, \u001b[39;00m\n\u001b[32m      3\u001b[39m \u001b[38;5;66;03m# quédate con el nombre de la canción, la popularidad y la duración (en minutos)\u001b[39;00m\n\u001b[32m      5\u001b[39m katy_perry = \u001b[33m'\u001b[39m\u001b[33mspotify:artist:6jJ0s89eD6GaHleKKya26X\u001b[39m\u001b[33m'\u001b[39m\n\u001b[32m----> \u001b[39m\u001b[32m6\u001b[39m spotify = \u001b[43mspotipy\u001b[49m\u001b[43m.\u001b[49m\u001b[43mSpotify\u001b[49m\u001b[43m(\u001b[49m\u001b[43mclient_id\u001b[49m\u001b[43m=\u001b[49m\u001b[43mCLIENT_ID\u001b[49m\u001b[43m,\u001b[49m\u001b[43mclient_secret\u001b[49m\u001b[43m=\u001b[49m\u001b[43m \u001b[49m\u001b[43mCLIENT_SECRET\u001b[49m\u001b[43m)\u001b[49m\n\u001b[32m      7\u001b[39m results = spotify.artist_top_tracks(katy_perry)\n\u001b[32m      9\u001b[39m \u001b[38;5;28;01mfor\u001b[39;00m track \u001b[38;5;129;01min\u001b[39;00m results[\u001b[33m'\u001b[39m\u001b[33mtracks\u001b[39m\u001b[33m'\u001b[39m][:\u001b[32m10\u001b[39m]:\n",
                        "\u001b[31mTypeError\u001b[39m: Spotify.__init__() got an unexpected keyword argument 'client_id'"
                    ]
                }
            ],
            "source": [
                "#Obtén de tu artista favorito, el top 10 de sus canciones.\n",
                "# quédate con el elemento tracks, que contendrá las canciones con más reproducciones del artista, \n",
                "# quédate con el nombre de la canción, la popularidad y la duración (en minutos)\n",
                "\n",
                "katy_perry = 'spotify:artist:6jJ0s89eD6GaHleKKya26X'\n",
                "spotify = spotipy.Spotify(client_id=CLIENT_ID,client_secret= CLIENT_SECRET)\n",
                "results = spotify.artist_top_tracks(katy_perry)\n",
                "\n",
                "for track in results['tracks'][:10]:\n",
                "    print('track    : ' + track['name'])\n",
                "    print('audio    : ' + track['preview_url'])\n",
                "    print('cover art: ' + track['album']['images'][0]['url'])\n",
                "    print()"
            ]
        },
        {
            "cell_type": "code",
            "execution_count": null,
            "metadata": {},
            "outputs": [],
            "source": [
                "def check_conexion (URL):\n",
                "  respuesta = requests.get(url)\n",
                "  # Verificamos que la solicitud fue exitosa\n",
                "  if respuesta.status_code == 200:\n",
                "    return print(\"Conexión exitosa\")\n",
                "  else:\n",
                "    return print(\"Error al conectarse:\", respuesta.status_code)"
            ]
        },
        {
            "cell_type": "code",
            "execution_count": null,
            "metadata": {},
            "outputs": [],
            "source": [
                "check_conexion(url)"
            ]
        }
    ],
    "metadata": {
        "kernelspec": {
            "display_name": "Python 3",
            "language": "python",
            "name": "python3"
        },
        "language_info": {
            "codemirror_mode": {
                "name": "ipython",
                "version": 3
            },
            "file_extension": ".py",
            "mimetype": "text/x-python",
            "name": "python",
            "nbconvert_exporter": "python",
            "pygments_lexer": "ipython3",
            "version": "3.11.4"
        },
        "orig_nbformat": 4
    },
    "nbformat": 4,
    "nbformat_minor": 2
}
